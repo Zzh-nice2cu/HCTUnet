{
 "cells": [
  {
   "cell_type": "markdown",
   "source": [
    "GPU availability"
   ],
   "metadata": {
    "id": "mhhx8MbxloVB"
   },
   "id": "mhhx8MbxloVB"
  },
  {
   "cell_type": "code",
   "source": [
    "!nvidia-smi"
   ],
   "metadata": {
    "colab": {
     "base_uri": "https://localhost:8080/"
    },
    "id": "aR2lXA6RlnE4",
    "outputId": "eee4faf0-b112-4b50-ef6d-02f8aab8d521",
    "ExecuteTime": {
     "end_time": "2024-04-23T07:04:34.245970Z",
     "start_time": "2024-04-23T07:04:34.108919900Z"
    }
   },
   "id": "aR2lXA6RlnE4",
   "execution_count": 1,
   "outputs": [
    {
     "name": "stdout",
     "output_type": "stream",
     "text": [
      "Tue Apr 23 15:04:34 2024       \n",
      "+-----------------------------------------------------------------------------------------+\n",
      "| NVIDIA-SMI 551.61                 Driver Version: 551.61         CUDA Version: 12.4     |\n",
      "|-----------------------------------------+------------------------+----------------------+\n",
      "| GPU  Name                     TCC/WDDM  | Bus-Id          Disp.A | Volatile Uncorr. ECC |\n",
      "| Fan  Temp   Perf          Pwr:Usage/Cap |           Memory-Usage | GPU-Util  Compute M. |\n",
      "|                                         |                        |               MIG M. |\n",
      "|=========================================+========================+======================|\n",
      "|   0  NVIDIA GeForce RTX 4060 Ti   WDDM  |   00000000:01:00.0  On |                  N/A |\n",
      "|  0%   51C    P8             11W /  160W |    1036MiB /   8188MiB |     18%      Default |\n",
      "|                                         |                        |                  N/A |\n",
      "+-----------------------------------------+------------------------+----------------------+\n",
      "                                                                                         \n",
      "+-----------------------------------------------------------------------------------------+\n",
      "| Processes:                                                                              |\n",
      "|  GPU   GI   CI        PID   Type   Process name                              GPU Memory |\n",
      "|        ID   ID                                                               Usage      |\n",
      "|=========================================================================================|\n",
      "|    0   N/A  N/A      2100    C+G   ...2txyewy\\StartMenuExperienceHost.exe      N/A      |\n",
      "|    0   N/A  N/A      2828    C+G   ...1.0_x64__8wekyb3d8bbwe\\Video.UI.exe      N/A      |\n",
      "|    0   N/A  N/A      4240    C+G   ...ekyb3d8bbwe\\PhoneExperienceHost.exe      N/A      |\n",
      "|    0   N/A  N/A      5920    C+G   ...m Files\\Mozilla Firefox\\firefox.exe      N/A      |\n",
      "|    0   N/A  N/A      7228    C+G   ...on\\wallpaper_engine\\wallpaper32.exe      N/A      |\n",
      "|    0   N/A  N/A      7860    C+G   ...siveControlPanel\\SystemSettings.exe      N/A      |\n",
      "|    0   N/A  N/A      8328    C+G   C:\\Windows\\explorer.exe                     N/A      |\n",
      "|    0   N/A  N/A      9744    C+G   ...nt.CBS_cw5n1h2txyewy\\SearchHost.exe      N/A      |\n",
      "|    0   N/A  N/A     10924    C+G   ...GeForce Experience\\NVIDIA Share.exe      N/A      |\n",
      "|    0   N/A  N/A     13024    C+G   ...GeForce Experience\\NVIDIA Share.exe      N/A      |\n",
      "|    0   N/A  N/A     13224    C+G   ...CBS_cw5n1h2txyewy\\TextInputHost.exe      N/A      |\n",
      "|    0   N/A  N/A     15388    C+G   ...crosoft\\Edge\\Application\\msedge.exe      N/A      |\n",
      "|    0   N/A  N/A     16236    C+G   ...5n1h2txyewy\\ShellExperienceHost.exe      N/A      |\n",
      "|    0   N/A  N/A     16248    C+G   ...5\\extracted\\runtime\\WeChatAppEx.exe      N/A      |\n",
      "|    0   N/A  N/A     16668    C+G   ... Synapse 3 Host\\Razer Synapse 3.exe      N/A      |\n",
      "|    0   N/A  N/A     17976    C+G   ...m Files\\Mozilla Firefox\\firefox.exe      N/A      |\n",
      "|    0   N/A  N/A     18008    C+G   ...s (x86)\\Razer\\Synapse\\RzSynapse.exe      N/A      |\n",
      "|    0   N/A  N/A     18200    C+G   ...on\\123.0.2420.97\\msedgewebview2.exe      N/A      |\n",
      "|    0   N/A  N/A     18612    C+G   ...les\\Microsoft OneDrive\\OneDrive.exe      N/A      |\n",
      "|    0   N/A  N/A     27520    C+G   ...wekyb3d8bbwe\\XboxGameBarWidgets.exe      N/A      |\n",
      "|    0   N/A  N/A     27568    C+G   ...91.0_x64__8wekyb3d8bbwe\\GameBar.exe      N/A      |\n",
      "|    0   N/A  N/A     29204    C+G   D:\\PyCharm 2023.2.1\\bin\\pycharm64.exe       N/A      |\n",
      "|    0   N/A  N/A     31768    C+G   ...ft Office\\root\\Office16\\WINWORD.EXE      N/A      |\n",
      "+-----------------------------------------------------------------------------------------+\n"
     ]
    }
   ]
  },
  {
   "cell_type": "markdown",
   "id": "db7e6f84",
   "metadata": {
    "id": "db7e6f84"
   },
   "source": [
    " Clone the BEFUnet repository"
   ]
  },
  {
   "cell_type": "code",
   "execution_count": null,
   "id": "b8787023",
   "metadata": {
    "id": "b8787023"
   },
   "outputs": [],
   "source": [
    "!git clone https://github.com/Omid-Nejati/BEFUnet.git\n",
    "%cd /content/BEFUnet"
   ]
  },
  {
   "cell_type": "markdown",
   "source": [
    "Install Packages"
   ],
   "metadata": {
    "id": "NG54HBvOmstN"
   },
   "id": "NG54HBvOmstN"
  },
  {
   "cell_type": "code",
   "source": [
    "!pip install -r requirements.txt"
   ],
   "metadata": {
    "id": "XB8kbccDmrwy"
   },
   "id": "XB8kbccDmrwy",
   "execution_count": null,
   "outputs": []
  },
  {
   "cell_type": "markdown",
   "source": [
    "Download Synapse Dataset"
   ],
   "metadata": {
    "id": "pAe_RG0zmXV1"
   },
   "id": "pAe_RG0zmXV1"
  },
  {
   "cell_type": "code",
   "execution_count": null,
   "id": "4c94fc45",
   "metadata": {
    "id": "4c94fc45"
   },
   "outputs": [],
   "source": [
    "!gdown 1IGe2kUzBwpMR-HYUotc1pacNjrEo1ftz\n",
    "!unzip -xq ./data.zip"
   ]
  },
  {
   "cell_type": "markdown",
   "id": "cfe6a31c",
   "metadata": {
    "id": "cfe6a31c"
   },
   "source": [
    "Train Model on Synapse Dataset"
   ]
  },
  {
   "cell_type": "code",
   "execution_count": 2,
   "id": "34e123c9",
   "metadata": {
    "id": "34e123c9",
    "ExecuteTime": {
     "end_time": "2024-04-23T07:05:10.961461700Z",
     "start_time": "2024-04-23T07:05:07.548411800Z"
    }
   },
   "outputs": [],
   "source": [
    "!python train.py --root_path ./Synapse/train_npz --test_path ./Synapse/test_vol_h5 --batch_size 10 --eval_interval 20 --max_epochs 500 --model_name HCTUnet --num_workers 2"
   ]
  }
 ],
 "metadata": {
  "accelerator": "GPU",
  "colab": {
   "provenance": []
  },
  "gpuClass": "standard",
  "kernelspec": {
   "display_name": "Python 3 (ipykernel)",
   "language": "python",
   "name": "python3"
  },
  "language_info": {
   "codemirror_mode": {
    "name": "ipython",
    "version": 3
   },
   "file_extension": ".py",
   "mimetype": "text/x-python",
   "name": "python",
   "nbconvert_exporter": "python",
   "pygments_lexer": "ipython3",
   "version": "3.9.12"
  }
 },
 "nbformat": 4,
 "nbformat_minor": 5
}
